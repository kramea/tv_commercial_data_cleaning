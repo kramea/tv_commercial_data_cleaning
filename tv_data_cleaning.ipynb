{
 "cells": [
  {
   "cell_type": "markdown",
   "metadata": {},
   "source": [
    "# Data Cleaning: Converting key-pair values to data frame"
   ]
  },
  {
   "cell_type": "markdown",
   "metadata": {},
   "source": [
    "This IPython notebook illustrates a simple data cleaning script to covert the data given in key-value pairs (eg. in this format a:124 b:235) to a dataframe. For this, I am using the TV News Channel Commercial Detection Dataset Data Set from the UCI Machine Learning Repository:\n",
    "\n",
    "Link: https://archive.ics.uci.edu/ml/datasets/TV+News+Channel+Commercial+Detection+Dataset\n",
    "\n",
    "The dataset consists of different attributes of the video clips ranging from shot length to spectrum analysis values. It consists of data from 5 TV channels. Each video classifies whether the data is a commercial or not in its first column (1/-1)."
   ]
  },
  {
   "cell_type": "markdown",
   "metadata": {},
   "source": [
    "I converted this 'text' data which are given in key-value pairs to a dataframe, and added a 'Label' column to identify whether this is a commercial or not. All the operations are done using pandas and re packages."
   ]
  },
  {
   "cell_type": "code",
   "execution_count": 111,
   "metadata": {
    "collapsed": true
   },
   "outputs": [],
   "source": [
    "import pandas as pd\n",
    "import re"
   ]
  },
  {
   "cell_type": "markdown",
   "metadata": {},
   "source": [
    "As an example, BBC.txt data is shown here."
   ]
  },
  {
   "cell_type": "code",
   "execution_count": 112,
   "metadata": {
    "collapsed": true
   },
   "outputs": [],
   "source": [
    "df= pd.read_table('BBC.txt', header=None)"
   ]
  },
  {
   "cell_type": "markdown",
   "metadata": {},
   "source": [
    "We can see that the whole dataset is read as one column."
   ]
  },
  {
   "cell_type": "code",
   "execution_count": 113,
   "metadata": {
    "collapsed": false
   },
   "outputs": [
    {
     "data": {
      "text/html": [
       "<div>\n",
       "<table border=\"1\" class=\"dataframe\">\n",
       "  <thead>\n",
       "    <tr style=\"text-align: right;\">\n",
       "      <th></th>\n",
       "      <th>0</th>\n",
       "    </tr>\n",
       "  </thead>\n",
       "  <tbody>\n",
       "    <tr>\n",
       "      <th>0</th>\n",
       "      <td>1  1:34 2:7.221330 3:3.191483 4:23.518745 5:11...</td>\n",
       "    </tr>\n",
       "    <tr>\n",
       "      <th>1</th>\n",
       "      <td>1  1:26 2:6.180094 3:3.015362 4:32.932747 5:18...</td>\n",
       "    </tr>\n",
       "    <tr>\n",
       "      <th>2</th>\n",
       "      <td>1  1:25 2:2.462173 3:1.541003 4:20.039402 5:18...</td>\n",
       "    </tr>\n",
       "    <tr>\n",
       "      <th>3</th>\n",
       "      <td>1  1:37 2:6.194136 3:2.658522 4:22.864201 5:13...</td>\n",
       "    </tr>\n",
       "    <tr>\n",
       "      <th>4</th>\n",
       "      <td>1  1:25 2:4.367200 3:2.063856 4:31.797680 5:14...</td>\n",
       "    </tr>\n",
       "  </tbody>\n",
       "</table>\n",
       "</div>"
      ],
      "text/plain": [
       "                                                   0\n",
       "0  1  1:34 2:7.221330 3:3.191483 4:23.518745 5:11...\n",
       "1  1  1:26 2:6.180094 3:3.015362 4:32.932747 5:18...\n",
       "2  1  1:25 2:2.462173 3:1.541003 4:20.039402 5:18...\n",
       "3  1  1:37 2:6.194136 3:2.658522 4:22.864201 5:13...\n",
       "4  1  1:25 2:4.367200 3:2.063856 4:31.797680 5:14..."
      ]
     },
     "execution_count": 113,
     "metadata": {},
     "output_type": "execute_result"
    }
   ],
   "source": [
    "df.head()"
   ]
  },
  {
   "cell_type": "code",
   "execution_count": 114,
   "metadata": {
    "collapsed": false
   },
   "outputs": [
    {
     "name": "stdout",
     "output_type": "stream",
     "text": [
      "Number of data points in this dataset:  39252\n"
     ]
    }
   ],
   "source": [
    "print(\"Number of data points in this dataset: \", len(df))"
   ]
  },
  {
   "cell_type": "markdown",
   "metadata": {},
   "source": [
    "So, the data is split into different strings as they have spaces in between each value."
   ]
  },
  {
   "cell_type": "code",
   "execution_count": 115,
   "metadata": {
    "collapsed": true
   },
   "outputs": [],
   "source": [
    "s = df[0].str.split(' ')"
   ]
  },
  {
   "cell_type": "markdown",
   "metadata": {},
   "source": [
    "As the first column in this dataset is the identification value of whether it is a commercial or not, a 'Label' column name(key) is added to it for consistency with other key-value pairs."
   ]
  },
  {
   "cell_type": "code",
   "execution_count": 116,
   "metadata": {
    "collapsed": true
   },
   "outputs": [],
   "source": [
    "for x in s:\n",
    "    x[0] = re.sub('^', 'Label:', x[0])"
   ]
  },
  {
   "cell_type": "markdown",
   "metadata": {},
   "source": [
    "We can look at the first five row of data to see what they look like now."
   ]
  },
  {
   "cell_type": "code",
   "execution_count": 117,
   "metadata": {
    "collapsed": false
   },
   "outputs": [
    {
     "data": {
      "text/plain": [
       "['Label:1',\n",
       " '',\n",
       " '1:34',\n",
       " '2:7.221330',\n",
       " '3:3.191483',\n",
       " '4:23.518745',\n",
       " '5:11.492748',\n",
       " '6:0.012884',\n",
       " '7:0.010939',\n",
       " '8:0.070129',\n",
       " '9:0.042020',\n",
       " '10:3479.684814',\n",
       " '11:1272.241577',\n",
       " '12:6925.000000',\n",
       " '13:2529.583496',\n",
       " '14:793.310242',\n",
       " '15:1491.667480',\n",
       " '16:95.101265',\n",
       " '17:47.862164',\n",
       " '18:0.280428',\n",
       " '19:0.057195',\n",
       " '20:0.037041',\n",
       " '21:0.030156',\n",
       " '22:0.027542',\n",
       " '23:0.026764',\n",
       " '24:0.026208',\n",
       " '25:0.025655',\n",
       " '26:0.026445',\n",
       " '27:0.025279',\n",
       " '28:0.024324',\n",
       " '29:0.023326',\n",
       " '30:0.022514',\n",
       " '31:0.021632',\n",
       " '32:0.020039',\n",
       " '33:0.019796',\n",
       " '34:0.018026',\n",
       " '35:0.022698',\n",
       " '36:0.015102',\n",
       " '37:0.013252',\n",
       " '38:0.012440',\n",
       " '39:0.011919',\n",
       " '40:0.010791',\n",
       " '41:0.009966',\n",
       " '42:0.008903',\n",
       " '43:0.008340',\n",
       " '44:0.007499',\n",
       " '45:0.006459',\n",
       " '46:0.006567',\n",
       " '47:0.005370',\n",
       " '48:0.004960',\n",
       " '49:0.004578',\n",
       " '50:0.004097',\n",
       " '51:0.003342',\n",
       " '52:0.003146',\n",
       " '53:0.002232',\n",
       " '54:0.002100',\n",
       " '55:0.001491',\n",
       " '56:0.001071',\n",
       " '57:0.000948',\n",
       " '58:0.284830',\n",
       " '59:0.188584',\n",
       " '60:0.095811',\n",
       " '61:0.058109',\n",
       " '62:0.039912',\n",
       " '63:0.031203',\n",
       " '64:0.024834',\n",
       " '65:0.020402',\n",
       " '66:0.018373',\n",
       " '67:0.017416',\n",
       " '68:0.014771',\n",
       " '69:0.014248',\n",
       " '70:0.014764',\n",
       " '71:0.010573',\n",
       " '72:0.007839',\n",
       " '73:0.009584',\n",
       " '74:0.009506',\n",
       " '75:0.004559',\n",
       " '76:0.002932',\n",
       " '77:0.002510',\n",
       " '78:0.002162',\n",
       " '79:0.001889',\n",
       " '80:0.001770',\n",
       " '81:0.001677',\n",
       " '82:0.001380',\n",
       " '83:0.001265',\n",
       " '84:0.000979',\n",
       " '85:0.000388',\n",
       " '86:0.000078',\n",
       " '87:0.000001',\n",
       " '91:0.000200',\n",
       " '92:0.206233',\n",
       " '93:0.055721',\n",
       " '94:0.258808',\n",
       " '95:0.096710',\n",
       " '96:0.006383',\n",
       " '97:0.012799',\n",
       " '98:0.018299',\n",
       " '99:0.094127',\n",
       " '100:0.197161',\n",
       " '101:0.200766',\n",
       " '102:0.425305',\n",
       " '103:0.386083',\n",
       " '104:0.229146',\n",
       " '106:0.001151',\n",
       " '107:0.094178',\n",
       " '108:0.072075',\n",
       " '109:0.113430',\n",
       " '110:0.081476',\n",
       " '111:0.012468',\n",
       " '112:0.023315',\n",
       " '113:0.025366',\n",
       " '114:0.075289',\n",
       " '115:0.147547',\n",
       " '116:0.162155',\n",
       " '117:0.239114',\n",
       " '118:0.229784',\n",
       " '119:0.124483',\n",
       " '221:0.034483',\n",
       " '296:0.275862',\n",
       " '448:0.163793',\n",
       " '491:0.060345',\n",
       " '572:0.129310',\n",
       " '573:0.008621',\n",
       " '580:0.155172',\n",
       " '762:0.129310',\n",
       " '816:0.051724',\n",
       " '871:0.008621',\n",
       " '959:0.017241',\n",
       " '4124:0.340551293848',\n",
       " '4125:0.263356149835']"
      ]
     },
     "execution_count": 117,
     "metadata": {},
     "output_type": "execute_result"
    }
   ],
   "source": [
    "s[0]"
   ]
  },
  {
   "cell_type": "markdown",
   "metadata": {},
   "source": [
    "We can see that now the row correctly contains the 'key' for target variable as 'Label'. However, it also contains some empty strings that came with the data. These need to be removed before they are converted into the dataframe."
   ]
  },
  {
   "cell_type": "code",
   "execution_count": 118,
   "metadata": {
    "collapsed": true
   },
   "outputs": [],
   "source": [
    "m = [list(w for w in x if w)for x in s]"
   ]
  },
  {
   "cell_type": "markdown",
   "metadata": {},
   "source": [
    "Sanity check here."
   ]
  },
  {
   "cell_type": "code",
   "execution_count": 119,
   "metadata": {
    "collapsed": false
   },
   "outputs": [
    {
     "data": {
      "text/plain": [
       "['Label:1',\n",
       " '1:34',\n",
       " '2:7.221330',\n",
       " '3:3.191483',\n",
       " '4:23.518745',\n",
       " '5:11.492748',\n",
       " '6:0.012884',\n",
       " '7:0.010939',\n",
       " '8:0.070129',\n",
       " '9:0.042020',\n",
       " '10:3479.684814',\n",
       " '11:1272.241577',\n",
       " '12:6925.000000',\n",
       " '13:2529.583496',\n",
       " '14:793.310242',\n",
       " '15:1491.667480',\n",
       " '16:95.101265',\n",
       " '17:47.862164',\n",
       " '18:0.280428',\n",
       " '19:0.057195',\n",
       " '20:0.037041',\n",
       " '21:0.030156',\n",
       " '22:0.027542',\n",
       " '23:0.026764',\n",
       " '24:0.026208',\n",
       " '25:0.025655',\n",
       " '26:0.026445',\n",
       " '27:0.025279',\n",
       " '28:0.024324',\n",
       " '29:0.023326',\n",
       " '30:0.022514',\n",
       " '31:0.021632',\n",
       " '32:0.020039',\n",
       " '33:0.019796',\n",
       " '34:0.018026',\n",
       " '35:0.022698',\n",
       " '36:0.015102',\n",
       " '37:0.013252',\n",
       " '38:0.012440',\n",
       " '39:0.011919',\n",
       " '40:0.010791',\n",
       " '41:0.009966',\n",
       " '42:0.008903',\n",
       " '43:0.008340',\n",
       " '44:0.007499',\n",
       " '45:0.006459',\n",
       " '46:0.006567',\n",
       " '47:0.005370',\n",
       " '48:0.004960',\n",
       " '49:0.004578',\n",
       " '50:0.004097',\n",
       " '51:0.003342',\n",
       " '52:0.003146',\n",
       " '53:0.002232',\n",
       " '54:0.002100',\n",
       " '55:0.001491',\n",
       " '56:0.001071',\n",
       " '57:0.000948',\n",
       " '58:0.284830',\n",
       " '59:0.188584',\n",
       " '60:0.095811',\n",
       " '61:0.058109',\n",
       " '62:0.039912',\n",
       " '63:0.031203',\n",
       " '64:0.024834',\n",
       " '65:0.020402',\n",
       " '66:0.018373',\n",
       " '67:0.017416',\n",
       " '68:0.014771',\n",
       " '69:0.014248',\n",
       " '70:0.014764',\n",
       " '71:0.010573',\n",
       " '72:0.007839',\n",
       " '73:0.009584',\n",
       " '74:0.009506',\n",
       " '75:0.004559',\n",
       " '76:0.002932',\n",
       " '77:0.002510',\n",
       " '78:0.002162',\n",
       " '79:0.001889',\n",
       " '80:0.001770',\n",
       " '81:0.001677',\n",
       " '82:0.001380',\n",
       " '83:0.001265',\n",
       " '84:0.000979',\n",
       " '85:0.000388',\n",
       " '86:0.000078',\n",
       " '87:0.000001',\n",
       " '91:0.000200',\n",
       " '92:0.206233',\n",
       " '93:0.055721',\n",
       " '94:0.258808',\n",
       " '95:0.096710',\n",
       " '96:0.006383',\n",
       " '97:0.012799',\n",
       " '98:0.018299',\n",
       " '99:0.094127',\n",
       " '100:0.197161',\n",
       " '101:0.200766',\n",
       " '102:0.425305',\n",
       " '103:0.386083',\n",
       " '104:0.229146',\n",
       " '106:0.001151',\n",
       " '107:0.094178',\n",
       " '108:0.072075',\n",
       " '109:0.113430',\n",
       " '110:0.081476',\n",
       " '111:0.012468',\n",
       " '112:0.023315',\n",
       " '113:0.025366',\n",
       " '114:0.075289',\n",
       " '115:0.147547',\n",
       " '116:0.162155',\n",
       " '117:0.239114',\n",
       " '118:0.229784',\n",
       " '119:0.124483',\n",
       " '221:0.034483',\n",
       " '296:0.275862',\n",
       " '448:0.163793',\n",
       " '491:0.060345',\n",
       " '572:0.129310',\n",
       " '573:0.008621',\n",
       " '580:0.155172',\n",
       " '762:0.129310',\n",
       " '816:0.051724',\n",
       " '871:0.008621',\n",
       " '959:0.017241',\n",
       " '4124:0.340551293848',\n",
       " '4125:0.263356149835']"
      ]
     },
     "execution_count": 119,
     "metadata": {},
     "output_type": "execute_result"
    }
   ],
   "source": [
    "m[0]"
   ]
  },
  {
   "cell_type": "markdown",
   "metadata": {},
   "source": [
    "Great! Now the list consists of purely key-value pairs. Now, they need to be converted into a dictionary."
   ]
  },
  {
   "cell_type": "code",
   "execution_count": 120,
   "metadata": {
    "collapsed": true
   },
   "outputs": [],
   "source": [
    "d = [dict(w.split(':') for w in x) for x in m]"
   ]
  },
  {
   "cell_type": "markdown",
   "metadata": {},
   "source": [
    "Sanity check."
   ]
  },
  {
   "cell_type": "code",
   "execution_count": 121,
   "metadata": {
    "collapsed": false
   },
   "outputs": [
    {
     "data": {
      "text/plain": [
       "{'1': '34',\n",
       " '10': '3479.684814',\n",
       " '100': '0.197161',\n",
       " '101': '0.200766',\n",
       " '102': '0.425305',\n",
       " '103': '0.386083',\n",
       " '104': '0.229146',\n",
       " '106': '0.001151',\n",
       " '107': '0.094178',\n",
       " '108': '0.072075',\n",
       " '109': '0.113430',\n",
       " '11': '1272.241577',\n",
       " '110': '0.081476',\n",
       " '111': '0.012468',\n",
       " '112': '0.023315',\n",
       " '113': '0.025366',\n",
       " '114': '0.075289',\n",
       " '115': '0.147547',\n",
       " '116': '0.162155',\n",
       " '117': '0.239114',\n",
       " '118': '0.229784',\n",
       " '119': '0.124483',\n",
       " '12': '6925.000000',\n",
       " '13': '2529.583496',\n",
       " '14': '793.310242',\n",
       " '15': '1491.667480',\n",
       " '16': '95.101265',\n",
       " '17': '47.862164',\n",
       " '18': '0.280428',\n",
       " '19': '0.057195',\n",
       " '2': '7.221330',\n",
       " '20': '0.037041',\n",
       " '21': '0.030156',\n",
       " '22': '0.027542',\n",
       " '221': '0.034483',\n",
       " '23': '0.026764',\n",
       " '24': '0.026208',\n",
       " '25': '0.025655',\n",
       " '26': '0.026445',\n",
       " '27': '0.025279',\n",
       " '28': '0.024324',\n",
       " '29': '0.023326',\n",
       " '296': '0.275862',\n",
       " '3': '3.191483',\n",
       " '30': '0.022514',\n",
       " '31': '0.021632',\n",
       " '32': '0.020039',\n",
       " '33': '0.019796',\n",
       " '34': '0.018026',\n",
       " '35': '0.022698',\n",
       " '36': '0.015102',\n",
       " '37': '0.013252',\n",
       " '38': '0.012440',\n",
       " '39': '0.011919',\n",
       " '4': '23.518745',\n",
       " '40': '0.010791',\n",
       " '41': '0.009966',\n",
       " '4124': '0.340551293848',\n",
       " '4125': '0.263356149835',\n",
       " '42': '0.008903',\n",
       " '43': '0.008340',\n",
       " '44': '0.007499',\n",
       " '448': '0.163793',\n",
       " '45': '0.006459',\n",
       " '46': '0.006567',\n",
       " '47': '0.005370',\n",
       " '48': '0.004960',\n",
       " '49': '0.004578',\n",
       " '491': '0.060345',\n",
       " '5': '11.492748',\n",
       " '50': '0.004097',\n",
       " '51': '0.003342',\n",
       " '52': '0.003146',\n",
       " '53': '0.002232',\n",
       " '54': '0.002100',\n",
       " '55': '0.001491',\n",
       " '56': '0.001071',\n",
       " '57': '0.000948',\n",
       " '572': '0.129310',\n",
       " '573': '0.008621',\n",
       " '58': '0.284830',\n",
       " '580': '0.155172',\n",
       " '59': '0.188584',\n",
       " '6': '0.012884',\n",
       " '60': '0.095811',\n",
       " '61': '0.058109',\n",
       " '62': '0.039912',\n",
       " '63': '0.031203',\n",
       " '64': '0.024834',\n",
       " '65': '0.020402',\n",
       " '66': '0.018373',\n",
       " '67': '0.017416',\n",
       " '68': '0.014771',\n",
       " '69': '0.014248',\n",
       " '7': '0.010939',\n",
       " '70': '0.014764',\n",
       " '71': '0.010573',\n",
       " '72': '0.007839',\n",
       " '73': '0.009584',\n",
       " '74': '0.009506',\n",
       " '75': '0.004559',\n",
       " '76': '0.002932',\n",
       " '762': '0.129310',\n",
       " '77': '0.002510',\n",
       " '78': '0.002162',\n",
       " '79': '0.001889',\n",
       " '8': '0.070129',\n",
       " '80': '0.001770',\n",
       " '81': '0.001677',\n",
       " '816': '0.051724',\n",
       " '82': '0.001380',\n",
       " '83': '0.001265',\n",
       " '84': '0.000979',\n",
       " '85': '0.000388',\n",
       " '86': '0.000078',\n",
       " '87': '0.000001',\n",
       " '871': '0.008621',\n",
       " '9': '0.042020',\n",
       " '91': '0.000200',\n",
       " '92': '0.206233',\n",
       " '93': '0.055721',\n",
       " '94': '0.258808',\n",
       " '95': '0.096710',\n",
       " '959': '0.017241',\n",
       " '96': '0.006383',\n",
       " '97': '0.012799',\n",
       " '98': '0.018299',\n",
       " '99': '0.094127',\n",
       " 'Label': '1'}"
      ]
     },
     "execution_count": 121,
     "metadata": {},
     "output_type": "execute_result"
    }
   ],
   "source": [
    "d[0]"
   ]
  },
  {
   "cell_type": "markdown",
   "metadata": {},
   "source": [
    "The keys are extracted in order to be given as column names."
   ]
  },
  {
   "cell_type": "code",
   "execution_count": 122,
   "metadata": {
    "collapsed": false
   },
   "outputs": [
    {
     "name": "stdout",
     "output_type": "stream",
     "text": [
      "dict_keys(['221', '49', '110', '50', '156', '91', '36', '448', '18', '59', '145', '32', '206', '17', '197', '99', '96', '13', '51', '317', '6', '30', '22', '95', '76', '176', '62', '573', '64', '14', '601', '42', '621', '143', '116', '236', '871', '84', '262', '409', '114', '463', '47', '128', '34', '182', '852', 'Label', '26', '134', '70', '52', '5', '35', '623', '1002', '60', '12', '186', '215', '105', '194', '45', '94', '48', '406', '149', '82', '75', '19', '209', '271', '300', '366', '1016', '93', '1048', '882', '79', '426', '767', '92', '61', '83', '519', '162', '55', '11', '104', '127', '69', '144', '58', '7', '192', '41', '106', '171', '44', '112', '627', '101', '74', '152', '39', '168', '115', '223', '54', '572', '231', '37', '53', '107', '347', '407', '25', '269', '129', '816', '651', '877', '40', '81', '46', '72', '119', '108', '726', '195', '220', '27', '9', '185', '959', '118', '63', '97', '109', '29', '166', '319', '71', '21', '10', '125', '276', '98', '102', '28', '77', '113', '142', '219', '15', '709', '57', '840', '43', '188', '16', '67', '123', '229', '924', '85', '66', '230', '20', '505', '86', '100', '68', '56', '208', '78', '33', '2', '31', '80', '38', '90', '111', '559', '478', '24', '4', '4125', '1', '212', '462', '187', '482', '73', '65', '792', '3', '103', '117', '8', '296', '491', '23', '4124'])\n"
     ]
    }
   ],
   "source": [
    "cols = sorted(d, key=len, reverse=True)[0].keys()\n",
    "print(cols)"
   ]
  },
  {
   "cell_type": "markdown",
   "metadata": {},
   "source": [
    "Now, the key-value pairs are converted to a pandas dataframe."
   ]
  },
  {
   "cell_type": "code",
   "execution_count": 123,
   "metadata": {
    "collapsed": true
   },
   "outputs": [],
   "source": [
    "df = pd.DataFrame.from_records(d, index=df.index, columns=cols)"
   ]
  },
  {
   "cell_type": "code",
   "execution_count": 124,
   "metadata": {
    "collapsed": false
   },
   "outputs": [
    {
     "data": {
      "text/html": [
       "<div>\n",
       "<table border=\"1\" class=\"dataframe\">\n",
       "  <thead>\n",
       "    <tr style=\"text-align: right;\">\n",
       "      <th></th>\n",
       "      <th>221</th>\n",
       "      <th>49</th>\n",
       "      <th>110</th>\n",
       "      <th>50</th>\n",
       "      <th>156</th>\n",
       "      <th>91</th>\n",
       "      <th>36</th>\n",
       "      <th>448</th>\n",
       "      <th>18</th>\n",
       "      <th>59</th>\n",
       "      <th>...</th>\n",
       "      <th>65</th>\n",
       "      <th>792</th>\n",
       "      <th>3</th>\n",
       "      <th>103</th>\n",
       "      <th>117</th>\n",
       "      <th>8</th>\n",
       "      <th>296</th>\n",
       "      <th>491</th>\n",
       "      <th>23</th>\n",
       "      <th>4124</th>\n",
       "    </tr>\n",
       "  </thead>\n",
       "  <tbody>\n",
       "    <tr>\n",
       "      <th>0</th>\n",
       "      <td>0.034483</td>\n",
       "      <td>0.004578</td>\n",
       "      <td>0.081476</td>\n",
       "      <td>0.004097</td>\n",
       "      <td>NaN</td>\n",
       "      <td>0.000200</td>\n",
       "      <td>0.015102</td>\n",
       "      <td>0.163793</td>\n",
       "      <td>0.280428</td>\n",
       "      <td>0.188584</td>\n",
       "      <td>...</td>\n",
       "      <td>0.020402</td>\n",
       "      <td>NaN</td>\n",
       "      <td>3.191483</td>\n",
       "      <td>0.386083</td>\n",
       "      <td>0.239114</td>\n",
       "      <td>0.070129</td>\n",
       "      <td>0.275862</td>\n",
       "      <td>0.060345</td>\n",
       "      <td>0.026764</td>\n",
       "      <td>0.340551293848</td>\n",
       "    </tr>\n",
       "    <tr>\n",
       "      <th>1</th>\n",
       "      <td>0.023810</td>\n",
       "      <td>0.003646</td>\n",
       "      <td>0.069544</td>\n",
       "      <td>0.003437</td>\n",
       "      <td>NaN</td>\n",
       "      <td>0.024921</td>\n",
       "      <td>0.011070</td>\n",
       "      <td>0.250000</td>\n",
       "      <td>0.291295</td>\n",
       "      <td>0.129548</td>\n",
       "      <td>...</td>\n",
       "      <td>0.025180</td>\n",
       "      <td>NaN</td>\n",
       "      <td>3.015362</td>\n",
       "      <td>0.442294</td>\n",
       "      <td>0.219372</td>\n",
       "      <td>0.075000</td>\n",
       "      <td>0.178571</td>\n",
       "      <td>0.059524</td>\n",
       "      <td>0.029612</td>\n",
       "      <td>0.969323592363</td>\n",
       "    </tr>\n",
       "    <tr>\n",
       "      <th>2</th>\n",
       "      <td>0.012500</td>\n",
       "      <td>0.000126</td>\n",
       "      <td>0.019784</td>\n",
       "      <td>0.000096</td>\n",
       "      <td>NaN</td>\n",
       "      <td>0.000510</td>\n",
       "      <td>0.003407</td>\n",
       "      <td>0.112500</td>\n",
       "      <td>0.433894</td>\n",
       "      <td>0.127630</td>\n",
       "      <td>...</td>\n",
       "      <td>0.017804</td>\n",
       "      <td>NaN</td>\n",
       "      <td>1.541003</td>\n",
       "      <td>0.335157</td>\n",
       "      <td>0.180428</td>\n",
       "      <td>0.062625</td>\n",
       "      <td>0.137500</td>\n",
       "      <td>NaN</td>\n",
       "      <td>0.031720</td>\n",
       "      <td>0.148112313307</td>\n",
       "    </tr>\n",
       "    <tr>\n",
       "      <th>3</th>\n",
       "      <td>NaN</td>\n",
       "      <td>0.002355</td>\n",
       "      <td>0.056521</td>\n",
       "      <td>0.002345</td>\n",
       "      <td>NaN</td>\n",
       "      <td>0.008617</td>\n",
       "      <td>0.011975</td>\n",
       "      <td>0.078125</td>\n",
       "      <td>0.269854</td>\n",
       "      <td>0.183695</td>\n",
       "      <td>...</td>\n",
       "      <td>0.026004</td>\n",
       "      <td>NaN</td>\n",
       "      <td>2.658522</td>\n",
       "      <td>0.328285</td>\n",
       "      <td>0.204611</td>\n",
       "      <td>0.078041</td>\n",
       "      <td>0.062500</td>\n",
       "      <td>0.039062</td>\n",
       "      <td>0.035898</td>\n",
       "      <td>0.746379388402</td>\n",
       "    </tr>\n",
       "    <tr>\n",
       "      <th>4</th>\n",
       "      <td>NaN</td>\n",
       "      <td>0.000262</td>\n",
       "      <td>0.119341</td>\n",
       "      <td>0.000259</td>\n",
       "      <td>NaN</td>\n",
       "      <td>NaN</td>\n",
       "      <td>0.007306</td>\n",
       "      <td>0.075000</td>\n",
       "      <td>0.254343</td>\n",
       "      <td>0.091578</td>\n",
       "      <td>...</td>\n",
       "      <td>0.031220</td>\n",
       "      <td>NaN</td>\n",
       "      <td>2.063856</td>\n",
       "      <td>0.116193</td>\n",
       "      <td>0.158413</td>\n",
       "      <td>0.107625</td>\n",
       "      <td>0.062500</td>\n",
       "      <td>0.025000</td>\n",
       "      <td>0.042564</td>\n",
       "      <td>0.572577783148</td>\n",
       "    </tr>\n",
       "  </tbody>\n",
       "</table>\n",
       "<p>5 rows × 204 columns</p>\n",
       "</div>"
      ],
      "text/plain": [
       "        221        49       110        50  156        91        36       448  \\\n",
       "0  0.034483  0.004578  0.081476  0.004097  NaN  0.000200  0.015102  0.163793   \n",
       "1  0.023810  0.003646  0.069544  0.003437  NaN  0.024921  0.011070  0.250000   \n",
       "2  0.012500  0.000126  0.019784  0.000096  NaN  0.000510  0.003407  0.112500   \n",
       "3       NaN  0.002355  0.056521  0.002345  NaN  0.008617  0.011975  0.078125   \n",
       "4       NaN  0.000262  0.119341  0.000259  NaN       NaN  0.007306  0.075000   \n",
       "\n",
       "         18        59       ...              65  792         3       103  \\\n",
       "0  0.280428  0.188584       ...        0.020402  NaN  3.191483  0.386083   \n",
       "1  0.291295  0.129548       ...        0.025180  NaN  3.015362  0.442294   \n",
       "2  0.433894  0.127630       ...        0.017804  NaN  1.541003  0.335157   \n",
       "3  0.269854  0.183695       ...        0.026004  NaN  2.658522  0.328285   \n",
       "4  0.254343  0.091578       ...        0.031220  NaN  2.063856  0.116193   \n",
       "\n",
       "        117         8       296       491        23            4124  \n",
       "0  0.239114  0.070129  0.275862  0.060345  0.026764  0.340551293848  \n",
       "1  0.219372  0.075000  0.178571  0.059524  0.029612  0.969323592363  \n",
       "2  0.180428  0.062625  0.137500       NaN  0.031720  0.148112313307  \n",
       "3  0.204611  0.078041  0.062500  0.039062  0.035898  0.746379388402  \n",
       "4  0.158413  0.107625  0.062500  0.025000  0.042564  0.572577783148  \n",
       "\n",
       "[5 rows x 204 columns]"
      ]
     },
     "execution_count": 124,
     "metadata": {},
     "output_type": "execute_result"
    }
   ],
   "source": [
    "df.head()"
   ]
  },
  {
   "cell_type": "code",
   "execution_count": 125,
   "metadata": {
    "collapsed": false
   },
   "outputs": [
    {
     "name": "stdout",
     "output_type": "stream",
     "text": [
      "Number of rows:  39252\n"
     ]
    }
   ],
   "source": [
    "print(\"Number of rows: \", len(df))"
   ]
  },
  {
   "cell_type": "markdown",
   "metadata": {},
   "source": [
    "The number of rows matches the datapoints from the text file. But, we see that the column names are mixed up (although, the corresponding values are correct--this is verified). The columns names have to be in their ascending order to make sense about the data. \n",
    "\n",
    "The 'Label' column is removed, then the rest of the columns are converted to integer, sorted and back to string, and Label is appended. This is because if they are sorted as integers, it will not go from '1, 2, 3', but would rather go from '1, 10, 100' etc."
   ]
  },
  {
   "cell_type": "code",
   "execution_count": 126,
   "metadata": {
    "collapsed": true
   },
   "outputs": [],
   "source": [
    "df_cols = list(df.columns)\n",
    "df_cols.remove('Label')\n",
    "df_cols = list(map(int, df_cols))\n",
    "df_cols.sort()\n",
    "df_cols = list(map(str, df_cols))\n",
    "df_cols.append('Label')"
   ]
  },
  {
   "cell_type": "markdown",
   "metadata": {},
   "source": [
    "Then the columns in the dataframe are reordered based on this."
   ]
  },
  {
   "cell_type": "code",
   "execution_count": 127,
   "metadata": {
    "collapsed": true
   },
   "outputs": [],
   "source": [
    "df = df[df_cols]"
   ]
  },
  {
   "cell_type": "markdown",
   "metadata": {},
   "source": [
    "The empty values in the dataframe are filled with 'NA'."
   ]
  },
  {
   "cell_type": "code",
   "execution_count": 128,
   "metadata": {
    "collapsed": true
   },
   "outputs": [],
   "source": [
    "df = df.fillna('NA')"
   ]
  },
  {
   "cell_type": "code",
   "execution_count": 129,
   "metadata": {
    "collapsed": false
   },
   "outputs": [
    {
     "data": {
      "text/html": [
       "<div>\n",
       "<table border=\"1\" class=\"dataframe\">\n",
       "  <thead>\n",
       "    <tr style=\"text-align: right;\">\n",
       "      <th></th>\n",
       "      <th>1</th>\n",
       "      <th>2</th>\n",
       "      <th>3</th>\n",
       "      <th>4</th>\n",
       "      <th>5</th>\n",
       "      <th>6</th>\n",
       "      <th>7</th>\n",
       "      <th>8</th>\n",
       "      <th>9</th>\n",
       "      <th>10</th>\n",
       "      <th>...</th>\n",
       "      <th>877</th>\n",
       "      <th>882</th>\n",
       "      <th>924</th>\n",
       "      <th>959</th>\n",
       "      <th>1002</th>\n",
       "      <th>1016</th>\n",
       "      <th>1048</th>\n",
       "      <th>4124</th>\n",
       "      <th>4125</th>\n",
       "      <th>Label</th>\n",
       "    </tr>\n",
       "  </thead>\n",
       "  <tbody>\n",
       "    <tr>\n",
       "      <th>0</th>\n",
       "      <td>34</td>\n",
       "      <td>7.221330</td>\n",
       "      <td>3.191483</td>\n",
       "      <td>23.518745</td>\n",
       "      <td>11.492748</td>\n",
       "      <td>0.012884</td>\n",
       "      <td>0.010939</td>\n",
       "      <td>0.070129</td>\n",
       "      <td>0.042020</td>\n",
       "      <td>3479.684814</td>\n",
       "      <td>...</td>\n",
       "      <td>NA</td>\n",
       "      <td>NA</td>\n",
       "      <td>NA</td>\n",
       "      <td>0.017241</td>\n",
       "      <td>NA</td>\n",
       "      <td>NA</td>\n",
       "      <td>NA</td>\n",
       "      <td>0.340551293848</td>\n",
       "      <td>0.263356149835</td>\n",
       "      <td>1</td>\n",
       "    </tr>\n",
       "    <tr>\n",
       "      <th>1</th>\n",
       "      <td>26</td>\n",
       "      <td>6.180094</td>\n",
       "      <td>3.015362</td>\n",
       "      <td>32.932747</td>\n",
       "      <td>18.120752</td>\n",
       "      <td>0.013149</td>\n",
       "      <td>0.010831</td>\n",
       "      <td>0.075000</td>\n",
       "      <td>0.050982</td>\n",
       "      <td>3362.287354</td>\n",
       "      <td>...</td>\n",
       "      <td>NA</td>\n",
       "      <td>NA</td>\n",
       "      <td>NA</td>\n",
       "      <td>NA</td>\n",
       "      <td>NA</td>\n",
       "      <td>NA</td>\n",
       "      <td>NA</td>\n",
       "      <td>0.969323592363</td>\n",
       "      <td>0.623751637831</td>\n",
       "      <td>1</td>\n",
       "    </tr>\n",
       "    <tr>\n",
       "      <th>2</th>\n",
       "      <td>25</td>\n",
       "      <td>2.462173</td>\n",
       "      <td>1.541003</td>\n",
       "      <td>20.039402</td>\n",
       "      <td>18.033579</td>\n",
       "      <td>0.015869</td>\n",
       "      <td>0.011657</td>\n",
       "      <td>0.062625</td>\n",
       "      <td>0.042195</td>\n",
       "      <td>3317.864746</td>\n",
       "      <td>...</td>\n",
       "      <td>NA</td>\n",
       "      <td>NA</td>\n",
       "      <td>NA</td>\n",
       "      <td>NA</td>\n",
       "      <td>NA</td>\n",
       "      <td>NA</td>\n",
       "      <td>NA</td>\n",
       "      <td>0.148112313307</td>\n",
       "      <td>0.780920132399</td>\n",
       "      <td>1</td>\n",
       "    </tr>\n",
       "    <tr>\n",
       "      <th>3</th>\n",
       "      <td>37</td>\n",
       "      <td>6.194136</td>\n",
       "      <td>2.658522</td>\n",
       "      <td>22.864201</td>\n",
       "      <td>13.588374</td>\n",
       "      <td>0.017141</td>\n",
       "      <td>0.012120</td>\n",
       "      <td>0.078041</td>\n",
       "      <td>0.072270</td>\n",
       "      <td>3491.640137</td>\n",
       "      <td>...</td>\n",
       "      <td>NA</td>\n",
       "      <td>NA</td>\n",
       "      <td>0.015625</td>\n",
       "      <td>0.023438</td>\n",
       "      <td>NA</td>\n",
       "      <td>NA</td>\n",
       "      <td>NA</td>\n",
       "      <td>0.746379388402</td>\n",
       "      <td>0.403130075635</td>\n",
       "      <td>1</td>\n",
       "    </tr>\n",
       "    <tr>\n",
       "      <th>4</th>\n",
       "      <td>25</td>\n",
       "      <td>4.367200</td>\n",
       "      <td>2.063856</td>\n",
       "      <td>31.797680</td>\n",
       "      <td>14.305157</td>\n",
       "      <td>0.013647</td>\n",
       "      <td>0.013007</td>\n",
       "      <td>0.107625</td>\n",
       "      <td>0.080645</td>\n",
       "      <td>3327.662109</td>\n",
       "      <td>...</td>\n",
       "      <td>0.100000</td>\n",
       "      <td>NA</td>\n",
       "      <td>NA</td>\n",
       "      <td>0.025000</td>\n",
       "      <td>NA</td>\n",
       "      <td>NA</td>\n",
       "      <td>NA</td>\n",
       "      <td>0.572577783148</td>\n",
       "      <td>0.588162223247</td>\n",
       "      <td>1</td>\n",
       "    </tr>\n",
       "  </tbody>\n",
       "</table>\n",
       "<p>5 rows × 204 columns</p>\n",
       "</div>"
      ],
      "text/plain": [
       "    1         2         3          4          5         6         7         8  \\\n",
       "0  34  7.221330  3.191483  23.518745  11.492748  0.012884  0.010939  0.070129   \n",
       "1  26  6.180094  3.015362  32.932747  18.120752  0.013149  0.010831  0.075000   \n",
       "2  25  2.462173  1.541003  20.039402  18.033579  0.015869  0.011657  0.062625   \n",
       "3  37  6.194136  2.658522  22.864201  13.588374  0.017141  0.012120  0.078041   \n",
       "4  25  4.367200  2.063856  31.797680  14.305157  0.013647  0.013007  0.107625   \n",
       "\n",
       "          9           10  ...        877 882       924       959 1002 1016  \\\n",
       "0  0.042020  3479.684814  ...         NA  NA        NA  0.017241   NA   NA   \n",
       "1  0.050982  3362.287354  ...         NA  NA        NA        NA   NA   NA   \n",
       "2  0.042195  3317.864746  ...         NA  NA        NA        NA   NA   NA   \n",
       "3  0.072270  3491.640137  ...         NA  NA  0.015625  0.023438   NA   NA   \n",
       "4  0.080645  3327.662109  ...   0.100000  NA        NA  0.025000   NA   NA   \n",
       "\n",
       "  1048            4124            4125 Label  \n",
       "0   NA  0.340551293848  0.263356149835     1  \n",
       "1   NA  0.969323592363  0.623751637831     1  \n",
       "2   NA  0.148112313307  0.780920132399     1  \n",
       "3   NA  0.746379388402  0.403130075635     1  \n",
       "4   NA  0.572577783148  0.588162223247     1  \n",
       "\n",
       "[5 rows x 204 columns]"
      ]
     },
     "execution_count": 129,
     "metadata": {},
     "output_type": "execute_result"
    }
   ],
   "source": [
    "df.head()"
   ]
  },
  {
   "cell_type": "markdown",
   "metadata": {},
   "source": [
    "Now we can see that the dataframe is neatly ordered and 'Label' is conveniently added at the end (target variable). This is ready to be saved as a csv file."
   ]
  },
  {
   "cell_type": "code",
   "execution_count": 130,
   "metadata": {
    "collapsed": true
   },
   "outputs": [],
   "source": [
    "df.to_csv(\"BBC_Cleaned.csv\", index=False)"
   ]
  }
 ],
 "metadata": {
  "anaconda-cloud": {},
  "kernelspec": {
   "display_name": "Python [conda root]",
   "language": "python",
   "name": "conda-root-py"
  },
  "language_info": {
   "codemirror_mode": {
    "name": "ipython",
    "version": 3
   },
   "file_extension": ".py",
   "mimetype": "text/x-python",
   "name": "python",
   "nbconvert_exporter": "python",
   "pygments_lexer": "ipython3",
   "version": "3.5.2"
  }
 },
 "nbformat": 4,
 "nbformat_minor": 1
}
